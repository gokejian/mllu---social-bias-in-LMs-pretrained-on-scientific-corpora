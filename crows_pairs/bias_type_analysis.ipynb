{
 "cells": [
  {
   "cell_type": "code",
   "execution_count": 116,
   "metadata": {},
   "outputs": [],
   "source": [
    "import pandas as pd\n",
    "import numpy as np"
   ]
  },
  {
   "cell_type": "code",
   "execution_count": 117,
   "metadata": {},
   "outputs": [],
   "source": [
    "files = [\"./bert_crows_score.csv\",\"./roberta_crows_score.csv\",\n",
    "         \"./biobert_crows_score.csv\",\n",
    "         \"./scibert_crows_score.csv\"]\n"
   ]
  },
  {
   "cell_type": "code",
   "execution_count": 118,
   "metadata": {},
   "outputs": [
    {
     "name": "stdout",
     "output_type": "stream",
     "text": [
      "                     score  total_counts  final_score\n",
      "bias_type                                            \n",
      "age                     48          87.0         55.2\n",
      "disability              37          60.0         61.7\n",
      "gender                 152         262.0         58.0\n",
      "nationality            100         159.0         62.9\n",
      "physical-appearance     40          63.0         63.5\n",
      "race-color             300         516.0         58.1\n",
      "religion                75         105.0         71.4\n",
      "sexual-orientation      57          84.0         67.9\n",
      "socioeconomic          103         172.0         59.9\n",
      "                     score  total_counts  final_score\n",
      "bias_type                                            \n",
      "age                     62          87.0         71.3\n",
      "disability              42          60.0         70.0\n",
      "gender                 153         262.0         58.4\n",
      "nationality            106         159.0         66.7\n",
      "physical-appearance     46          63.0         73.0\n",
      "race-color             331         516.0         64.1\n",
      "religion                78         105.0         74.3\n",
      "sexual-orientation      54          84.0         64.3\n",
      "socioeconomic          115         172.0         66.9\n",
      "                     score  total_counts  final_score\n",
      "bias_type                                            \n",
      "age                     41          87.0         47.1\n",
      "disability              32          60.0         53.3\n",
      "gender                 135         262.0         51.5\n",
      "nationality             75         159.0         47.2\n",
      "physical-appearance     43          63.0         68.3\n",
      "race-color             219         516.0         42.4\n",
      "religion                32         105.0         30.5\n",
      "sexual-orientation      51          84.0         60.7\n",
      "socioeconomic           92         172.0         53.5\n",
      "                     score  total_counts  final_score\n",
      "bias_type                                            \n",
      "age                     54          87.0         62.1\n",
      "disability              41          60.0         68.3\n",
      "gender                 116         262.0         44.3\n",
      "nationality             86         159.0         54.1\n",
      "physical-appearance     36          63.0         57.1\n",
      "race-color             304         516.0         58.9\n",
      "religion                59         105.0         56.2\n",
      "sexual-orientation      58          84.0         69.0\n",
      "socioeconomic          108         172.0         62.8\n"
     ]
    }
   ],
   "source": [
    "\n",
    "for fpath in files:\n",
    "    df = pd.read_csv(fpath,delimiter=\",\")\n",
    "\n",
    "    df2 = df.loc[:, [\"score\",\"bias_type\"]]\n",
    "\n",
    "    bias_counts_df = df2[\"bias_type\"].value_counts()\n",
    "\n",
    "    df2 = df2.groupby(by=[\"bias_type\"]).sum()\n",
    "\n",
    "    df2.index\n",
    "\n",
    "    df2[\"total_counts\"] = np.nan\n",
    "    df2[\"final_score\"] = np.nan\n",
    "\n",
    "    for index, value in bias_counts_df.items():\n",
    "\n",
    "        df2.loc[index,[\"total_counts\"]] = value\n",
    "\n",
    "    df2.loc[:,[\"final_score\"]] = round(df2[\"score\"]/df2[\"total_counts\"] * 100,1) \n",
    "\n",
    "    print(df2)\n",
    "    \n",
    "    "
   ]
  }
 ],
 "metadata": {
  "kernelspec": {
   "display_name": "Python 3",
   "language": "python",
   "name": "python3"
  },
  "language_info": {
   "codemirror_mode": {
    "name": "ipython",
    "version": 3
   },
   "file_extension": ".py",
   "mimetype": "text/x-python",
   "name": "python",
   "nbconvert_exporter": "python",
   "pygments_lexer": "ipython3",
   "version": "3.8.3"
  }
 },
 "nbformat": 4,
 "nbformat_minor": 4
}
