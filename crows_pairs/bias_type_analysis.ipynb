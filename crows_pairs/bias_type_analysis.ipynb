{
 "cells": [
  {
   "cell_type": "code",
   "execution_count": 1,
   "metadata": {},
   "outputs": [],
   "source": [
    "import pandas as pd\n",
    "import numpy as np"
   ]
  },
  {
   "cell_type": "code",
   "execution_count": 2,
   "metadata": {},
   "outputs": [],
   "source": [
    "files = [\"./bert_crows_score.csv\",\"./roberta_crows_score.csv\",\n",
    "         \"./biobert_crows_score.csv\",\n",
    "         \"./scibert_crows_score.csv\",\"./biobert_large_crows_score.csv\"]\n"
   ]
  },
  {
   "cell_type": "code",
   "execution_count": 3,
   "metadata": {},
   "outputs": [
    {
     "name": "stdout",
     "output_type": "stream",
     "text": [
      "                     score  total_counts  final_score\n",
      "bias_type                                            \n",
      "age                     39          87.0         44.8\n",
      "disability              34          60.0         56.7\n",
      "gender                 125         262.0         47.7\n",
      "nationality             92         159.0         57.9\n",
      "physical-appearance     32          63.0         50.8\n",
      "race-color             272         516.0         52.7\n",
      "religion                39         105.0         37.1\n",
      "sexual-orientation      53          84.0         63.1\n",
      "socioeconomic           85         172.0         49.4\n"
     ]
    }
   ],
   "source": [
    "\n",
    "for fpath in files:\n",
    "    df = pd.read_csv(fpath,delimiter=\",\")\n",
    "\n",
    "    df2 = df.loc[:, [\"score\",\"bias_type\"]]\n",
    "\n",
    "    bias_counts_df = df2[\"bias_type\"].value_counts()\n",
    "\n",
    "    df2 = df2.groupby(by=[\"bias_type\"]).sum()\n",
    "\n",
    "    df2.index\n",
    "\n",
    "    df2[\"total_counts\"] = np.nan\n",
    "    df2[\"final_score\"] = np.nan\n",
    "\n",
    "    for index, value in bias_counts_df.items():\n",
    "\n",
    "        df2.loc[index,[\"total_counts\"]] = value\n",
    "\n",
    "    df2.loc[:,[\"final_score\"]] = round(df2[\"score\"]/df2[\"total_counts\"] * 100,1) \n",
    "\n",
    "    print(df2)\n",
    "    \n",
    "    "
   ]
  },
  {
   "cell_type": "code",
   "execution_count": null,
   "metadata": {},
   "outputs": [],
   "source": []
  },
  {
   "cell_type": "code",
   "execution_count": null,
   "metadata": {},
   "outputs": [],
   "source": []
  }
 ],
 "metadata": {
  "kernelspec": {
   "display_name": "Python 3",
   "language": "python",
   "name": "python3"
  },
  "language_info": {
   "codemirror_mode": {
    "name": "ipython",
    "version": 3
   },
   "file_extension": ".py",
   "mimetype": "text/x-python",
   "name": "python",
   "nbconvert_exporter": "python",
   "pygments_lexer": "ipython3",
   "version": "3.8.3"
  }
 },
 "nbformat": 4,
 "nbformat_minor": 4
}
